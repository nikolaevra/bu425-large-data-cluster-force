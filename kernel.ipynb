{
 "cells": [
  {
   "cell_type": "markdown",
   "metadata": {
    "_uuid": "eabcfc4998ca069b7a1ec8e29af56e870a1222a1"
   },
   "source": [
    "## This notebook explains the assumptions of linear regression in detail. One of the most essential steps to take before applying linear regression and depending solely on accuracy scores is to check for these assumptions."
   ]
  },
  {
   "cell_type": "markdown",
   "metadata": {
    "_uuid": "9f8ebdf911e86d23c66eafd38052f0f04666421a"
   },
   "source": [
    "Table of Content\n",
    "<br><a href=\"#linearity\">1. Linearity</a>\n",
    "<br><a href=\"#mean\">2. Mean of Residuals</a>\n",
    "<br><a href=\"#homo\">3. Check for Homoscedasticity</a>\n",
    "<br><a href=\"#normal\">4. Check for Normality of error terms/residuals</a>\n",
    "<br><a href=\"#auto\">5. No autocorrelation of residuals</a>\n",
    "<br><a href=\"#multico\">6. No perfect multicollinearity</a>\n",
    "<br><a href=\"#other\">7. Other Models for comparison</a>\n"
   ]
  },
  {
   "cell_type": "code",
   "execution_count": null,
   "metadata": {
    "_cell_guid": "b1076dfc-b9ad-4769-8c92-a6c4dae69d19",
    "_uuid": "8f2839f25d086af736a60e9eeb907d3b93b6e0e5"
   },
   "outputs": [],
   "source": [
    "import numpy as np # linear algebra\n",
    "import pandas as pd # data processing, CSV file I/O (e.g. pd.read_csv)\n",
    "import seaborn as sns\n",
    "sns.set(context=\"notebook\", palette=\"Spectral\", style = 'darkgrid' ,font_scale = 1.5, color_codes=True)\n",
    "import warnings\n",
    "warnings.filterwarnings('ignore')\n",
    "import os\n",
    "import matplotlib.pyplot as plt"
   ]
  },
  {
   "cell_type": "code",
   "execution_count": null,
   "metadata": {
    "_cell_guid": "79c7e3d0-c299-4dcb-8224-4455121ee9b0",
    "_uuid": "d629ff2d2480ee46fbb7e2d37f6b5fab8052498a"
   },
   "outputs": [],
   "source": [
    "ad_data = pd.read_csv('../input/Advertising.csv',index_col='Unnamed: 0')"
   ]
  },
  {
   "cell_type": "code",
   "execution_count": null,
   "metadata": {
    "_uuid": "baad5990c8d403011d0efd4454b95bd06907a63e"
   },
   "outputs": [],
   "source": [
    "ad_data.info()"
   ]
  },
  {
   "cell_type": "code",
   "execution_count": null,
   "metadata": {
    "_uuid": "a0d7b50b73e17a56035f97160ef840d8fe2c5d05"
   },
   "outputs": [],
   "source": [
    "ad_data.describe()"
   ]
  },
  {
   "cell_type": "code",
   "execution_count": null,
   "metadata": {
    "_uuid": "0b6e659a59c28df633161fd4cd2967515daa3540"
   },
   "outputs": [],
   "source": [
    "p = sns.pairplot(ad_data)"
   ]
  },
  {
   "cell_type": "markdown",
   "metadata": {
    "_uuid": "157f44a2643c02ecfbd8aa71260b3937d58d9342"
   },
   "source": [
    "#  Assumptions for Linear Regression"
   ]
  },
  {
   "cell_type": "markdown",
   "metadata": {
    "_uuid": "d7e40d3858e84d8baa73c76239b5e01cf97d5c31"
   },
   "source": [
    "## <a id=\"linearity\">1. Linearity</a>\n"
   ]
  },
  {
   "cell_type": "markdown",
   "metadata": {
    "_uuid": "cda2075202657ed8277b20cd008d4160840d6085"
   },
   "source": [
    " ### Linear regression needs the relationship between the independent and dependent variables to be linear.  Let's use a pair plot to check the relation of independent variables with the Sales variable"
   ]
  },
  {
   "cell_type": "code",
   "execution_count": null,
   "metadata": {
    "_uuid": "a908302988372a701fcb2a372d45719554d0f89f"
   },
   "outputs": [],
   "source": [
    "# visualize the relationship between the features and the response using scatterplots\n",
    "p = sns.pairplot(ad_data, x_vars=['TV','Radio','Newspaper'], y_vars='Sales', size=7, aspect=0.7)"
   ]
  },
  {
   "cell_type": "markdown",
   "metadata": {
    "_uuid": "ed56877c9d2e8d60e78511e103cab883d25f5ca2"
   },
   "source": [
    "### By looking at the plots we can see that with the Sales variable the none of the independent variables form an accurately linear shape but TV and Radio do still better than Newspaper which seems to hardly have any specific shape. So it shows that a linear regression fitting might not be the best model for it. A linear model might not be able to *efficiently* explain the data in terms of variability, prediction accuracy etc. \n",
    "\n",
    "A tip is to remember to always see the plots from where the dependent variable is on the y axis. Though it wouldn't vary the shape much but that's how linear regression's intuition is, to put the dependent variable as y and independents as x(s)."
   ]
  },
  {
   "cell_type": "markdown",
   "metadata": {
    "_uuid": "9406d148d9dbdf774cd743d0c94f55bf479bc1ed"
   },
   "source": [
    "### Now rest of the assumptions require us to perform the regression before we can even check for them. So let's perform regression on it."
   ]
  },
  {
   "cell_type": "markdown",
   "metadata": {
    "_uuid": "507e37fcbfa69eea7f15b4678990c44de9a22201"
   },
   "source": [
    "### Fitting the linear model"
   ]
  },
  {
   "cell_type": "code",
   "execution_count": null,
   "metadata": {
    "_uuid": "46080394aec98c4c5cd958d3d653094c6b825813"
   },
   "outputs": [],
   "source": [
    "x = ad_data.drop([\"Sales\"],axis=1)\n",
    "y = ad_data.Sales"
   ]
  },
  {
   "cell_type": "code",
   "execution_count": null,
   "metadata": {
    "_uuid": "f7328260465815618b95ab94ec67514028875b63"
   },
   "outputs": [],
   "source": [
    "from sklearn.preprocessing import StandardScaler\n",
    "sc = StandardScaler()\n",
    "X = sc.fit_transform(x)"
   ]
  },
  {
   "cell_type": "code",
   "execution_count": null,
   "metadata": {
    "_uuid": "e87ec448f49c4b0b4faae6993e878b84b482d0b0"
   },
   "outputs": [],
   "source": [
    "from sklearn.model_selection import train_test_split\n",
    "X_train, X_test, y_train, y_test = train_test_split(X, y,random_state = 0,test_size=0.25)"
   ]
  },
  {
   "cell_type": "code",
   "execution_count": null,
   "metadata": {
    "_uuid": "8e63db56c76668c3226b80bf5852c80ec0464797"
   },
   "outputs": [],
   "source": [
    "from sklearn.metrics import mean_absolute_error\n",
    "from sklearn.metrics import mean_squared_error\n",
    "from sklearn.metrics import r2_score\n",
    "from sklearn import linear_model\n",
    "\n",
    "regr = linear_model.LinearRegression()\n",
    "regr.fit(X,y)\n",
    "y_pred = regr.predict(X)"
   ]
  },
  {
   "cell_type": "code",
   "execution_count": null,
   "metadata": {
    "_uuid": "f854cc0c7bb51b6fe8c7d083d7ed9ea603bc1213"
   },
   "outputs": [],
   "source": [
    "print(\"R squared: {}\".format(r2_score(y_true=y,y_pred=y_pred)))"
   ]
  },
  {
   "cell_type": "markdown",
   "metadata": {
    "_uuid": "55ffa20dff5cf853daa096766b928112c7026a72"
   },
   "source": [
    "## <a id=\"mean\">2. Mean of Residuals</a>"
   ]
  },
  {
   "cell_type": "markdown",
   "metadata": {
    "_uuid": "a59c735a287e204f066a658d59a0e839a7b7fca4"
   },
   "source": [
    "### Residuals as we know are the differences between the true value and the predicted value. One of the assumptions of linear regression is that the mean of the residuals should be zero. So let's find out.\n"
   ]
  },
  {
   "cell_type": "code",
   "execution_count": null,
   "metadata": {
    "_uuid": "ebaa2a9f4c22c4283fd5d049313c0699c31aab7c"
   },
   "outputs": [],
   "source": [
    "residuals = y.values-y_pred\n",
    "mean_residuals = np.mean(residuals)\n",
    "print(\"Mean of Residuals {}\".format(mean_residuals))"
   ]
  },
  {
   "cell_type": "markdown",
   "metadata": {
    "_uuid": "9a134e4631b2a0e966aff35f3d586320e091be9e"
   },
   "source": [
    "### Very close to zero so all good here."
   ]
  },
  {
   "cell_type": "markdown",
   "metadata": {
    "_uuid": "b35dfa99ece694cf1a1a4aa332940a5a317aa849"
   },
   "source": [
    "## <a id=\"homo\">3. Check for Homoscedasticity</a>"
   ]
  },
  {
   "cell_type": "markdown",
   "metadata": {
    "_uuid": "cda995bacc177f67674a4cdec00df18a175a0fef"
   },
   "source": [
    "### Homoscedasticity means that the residuals have equal or almost equal variance across the regression line. By plotting the error terms with predicted terms we can check that there should not be any pattern in the error terms."
   ]
  },
  {
   "cell_type": "markdown",
   "metadata": {
    "_uuid": "388dc0ceb7cf54d4c45b199cb5cd2ad1135a2552"
   },
   "source": [
    "### Detecting heteroscedasticity! \n",
    "Graphical Method: Firstly do the regression analysis and then plot the error terms against the predicted values( Yi^). If there is a definite pattern (like linear or quadratic or funnel shaped) obtained from the scatter plot then heteroscedasticity is present."
   ]
  },
  {
   "cell_type": "code",
   "execution_count": null,
   "metadata": {
    "_uuid": "3df81ae9b32a905c09699e92cab9109ec8cb7c30"
   },
   "outputs": [],
   "source": [
    "p = sns.scatterplot(y_pred,residuals)\n",
    "plt.xlabel('y_pred/predicted values')\n",
    "plt.ylabel('Residuals')\n",
    "plt.ylim(-10,10)\n",
    "plt.xlim(0,26)\n",
    "p = sns.lineplot([0,26],[0,0],color='blue')\n",
    "p = plt.title('Residuals vs fitted values plot for homoscedasticity check')"
   ]
  },
  {
   "cell_type": "markdown",
   "metadata": {
    "_uuid": "c724df38198b7108cde3a37e147701df816789c9"
   },
   "source": [
    "### Now we will be applying tests. \n",
    "A tip is to keep in mind that if we want 95% confidence on our findings and tests then the p-value should be less than 0.05 to be able to reject the null hypothesis. Remember, a researcher or data scientist would always aim to reject the null hypothesis."
   ]
  },
  {
   "cell_type": "markdown",
   "metadata": {
    "_uuid": "680a4cff287ff470f301c538a330ef5326eb6da6"
   },
   "source": [
    "##  Goldfeld Quandt Test\n",
    "Checking heteroscedasticity : Using Goldfeld Quandt we test for heteroscedasticity.\n",
    "* Null Hypothesis: Error terms are homoscedastic\n",
    "* Alternative Hypothesis: Error terms are heteroscedastic."
   ]
  },
  {
   "cell_type": "code",
   "execution_count": null,
   "metadata": {
    "_uuid": "3aaa52405c8766944d04b188b84fcd987f95171f"
   },
   "outputs": [],
   "source": [
    "import statsmodels.stats.api as sms\n",
    "from statsmodels.compat import lzip\n",
    "name = ['F statistic', 'p-value']\n",
    "test = sms.het_goldfeldquandt(residuals, X)\n",
    "lzip(name, test)"
   ]
  },
  {
   "cell_type": "markdown",
   "metadata": {
    "_uuid": "6ffbb9378edb3007180c6c4e7baf2f9d741854f3"
   },
   "source": [
    "### Bartlett’s test tests the null hypothesis that all input samples are from populations with equal variances. "
   ]
  },
  {
   "cell_type": "code",
   "execution_count": null,
   "metadata": {
    "_uuid": "52e1ee607403498f5779098cc5dc4e4827a92f9d"
   },
   "outputs": [],
   "source": [
    "from scipy.stats import bartlett\n",
    "test = bartlett( X,residuals)\n",
    "print(test)"
   ]
  },
  {
   "cell_type": "markdown",
   "metadata": {
    "_uuid": "c6de40dba8e2189ede1ae350980cdbf669a97688"
   },
   "source": [
    "### Since p value is more than 0.05 in both tests, we can't reject the null hypothesis, error terms are homoscedastic. Good."
   ]
  },
  {
   "cell_type": "markdown",
   "metadata": {
    "_uuid": "efaa5dc0410c4d7f18f701f811d1e05d30ed4e9f"
   },
   "source": [
    "## <a id=\"normal\">4. Check for Normality of error terms/residuals</a>"
   ]
  },
  {
   "cell_type": "code",
   "execution_count": null,
   "metadata": {
    "_uuid": "c8d0e41c1ea3df25be4ff2c2a9e923b859095578"
   },
   "outputs": [],
   "source": [
    "p = sns.distplot(residuals,kde=True)\n",
    "p = plt.title('Normality of error terms/residuals')"
   ]
  },
  {
   "cell_type": "markdown",
   "metadata": {
    "_uuid": "eb4a7929ba499ec170e42b0fb105d873e38ee0d2"
   },
   "source": [
    "### The residual terms are normally distributed for the number of test points we took. Remember the central limit theorem which says that as the sample size increases the distribution tends to be normal. A skew is also visible from the plot."
   ]
  },
  {
   "cell_type": "markdown",
   "metadata": {
    "_uuid": "555440b31fa2d4c6906ff563213f7a7d469fa8c7"
   },
   "source": [
    "## <a id=\"auto\">5. No autocorrelation of residuals</a>"
   ]
  },
  {
   "cell_type": "markdown",
   "metadata": {
    "_uuid": "b6c4cc3b055ab67f62d317cb765de92f2d574b05"
   },
   "source": [
    "### When the residuals are autocorrelated, it means that the current value is dependent of the previous (historic) values and that there is a definite unexplained pattern in the Y variable that shows up in the error terms. Though it is more evident in time series data.\n",
    "\n",
    "#### In plain terms autocorrelation takes place when there's a pattern in the rows of the data. This is usual in time series data as there is a pattern of time for eg. Week of the day effect which is a very famous pattern seen in stock markets where people tend to buy stocks more towards the beginning of weekends and tend to sell more on Mondays. There's been great study about this phenomenon and it is still a matter of research as to what actual factors cause this trend.\n",
    "\n",
    "### There should not be autocorrelation in the data so the error terms should not form any pattern."
   ]
  },
  {
   "cell_type": "code",
   "execution_count": null,
   "metadata": {
    "_uuid": "311184f93dd0b29f3ca9e2b5209ddc92a95d6a9b",
    "scrolled": true
   },
   "outputs": [],
   "source": [
    "plt.figure(figsize=(10,5))\n",
    "p = sns.lineplot(y_pred,residuals,marker='o',color='blue')\n",
    "plt.xlabel('y_pred/predicted values')\n",
    "plt.ylabel('Residuals')\n",
    "plt.ylim(-10,10)\n",
    "plt.xlim(0,26)\n",
    "p = sns.lineplot([0,26],[0,0],color='red')\n",
    "p = plt.title('Residuals vs fitted values plot for autocorrelation check')"
   ]
  },
  {
   "cell_type": "markdown",
   "metadata": {
    "_uuid": "f010f2452cdf3de87675d4e9a7aead4360d89eaa"
   },
   "source": [
    "### Checking for autocorrelation To ensure the absence of autocorrelation we use Ljungbox test.\n",
    "* Null Hypothesis: Autocorrelation is absent.\n",
    "* Alternative Hypothesis: Autocorrelation is present."
   ]
  },
  {
   "cell_type": "code",
   "execution_count": null,
   "metadata": {
    "_uuid": "36a9eba041f8fda4ef49bcbbbaf34d1b9366984f"
   },
   "outputs": [],
   "source": [
    "from statsmodels.stats import diagnostic as diag\n",
    "min(diag.acorr_ljungbox(residuals , lags = 40)[1])"
   ]
  },
  {
   "cell_type": "markdown",
   "metadata": {
    "_uuid": "c43f94f70dc163100f59c67dd279285a291041bd"
   },
   "source": [
    "### Since p value is more than 0.05 we can't reject the null hypothesis, error terms are not autocorrelated. Good."
   ]
  },
  {
   "cell_type": "code",
   "execution_count": null,
   "metadata": {
    "_uuid": "487bde98c43f56d7e1a56eeac83d09507fc270ae"
   },
   "outputs": [],
   "source": [
    "import statsmodels.api as sm"
   ]
  },
  {
   "cell_type": "code",
   "execution_count": null,
   "metadata": {
    "_uuid": "b45b48a7ccc425a8388c5c33d6d4cd6edbdc11bb"
   },
   "outputs": [],
   "source": [
    "# autocorrelation\n",
    "sm.graphics.tsa.plot_acf(residuals, lags=40)\n",
    "plt.show()"
   ]
  },
  {
   "cell_type": "code",
   "execution_count": null,
   "metadata": {
    "_uuid": "b79a0e4bcbe82bcaa48cd7a2aa6333083b0f33db"
   },
   "outputs": [],
   "source": [
    "# partial autocorrelation\n",
    "sm.graphics.tsa.plot_pacf(residuals, lags=40)\n",
    "plt.show()"
   ]
  },
  {
   "cell_type": "markdown",
   "metadata": {
    "_uuid": "5d51974cf9ecb0a7d8be3488b2bb8bd2cc0ebc51"
   },
   "source": [
    "### The results show no signs of autocorelation."
   ]
  },
  {
   "cell_type": "markdown",
   "metadata": {
    "_uuid": "2a8e7a55289894975c3dee61fab3c23fad38cc87"
   },
   "source": [
    "## <a id=\"multico\">6. No perfect multicollinearity</a>"
   ]
  },
  {
   "cell_type": "markdown",
   "metadata": {
    "_uuid": "b66cf8006abe7cdbf597e6ca363a514cd843a6df"
   },
   "source": [
    "### In regression, multicollinearity refers to the extent to which independent variables are correlated. Multicollinearity affects the coefficients and p-values, but it does not influence the predictions, precision of the predictions, and the goodness-of-fit statistics. If your primary goal is to make predictions, and you don’t need to understand the role of each independent variable, you don’t need to reduce severe multicollinearity."
   ]
  },
  {
   "cell_type": "code",
   "execution_count": null,
   "metadata": {
    "_uuid": "617fd72b573a52167d21a358982f1d7f4de48cb0"
   },
   "outputs": [],
   "source": [
    "plt.figure(figsize=(20,20))  # on this line I just set the size of figure to 12 by 10.\n",
    "p=sns.heatmap(ad_data.corr(), annot=True,cmap='RdYlGn',square=True)  # seaborn has very simple solution for heatmap"
   ]
  },
  {
   "cell_type": "markdown",
   "metadata": {
    "_uuid": "4ee66a59fd10e308aa15d35c6febfd9a9548a7b3"
   },
   "source": [
    "### Look for correlation of rows where the dependent variable (Sales in this case) is not involved because if a variable is correlated with the dependent variable then this would be a good sign for our model. Correlation within dependent variables is what we need to look for and avoid. This data doesn't contain any multicollinearity. In case there was any then we would try to remove one of the correlated variables depending on which was more important to our regression model."
   ]
  },
  {
   "cell_type": "markdown",
   "metadata": {
    "_uuid": "8446b87fcf0ee64aef02de31854a91d41d7ad57c"
   },
   "source": [
    "XXXXXXXXXXXXXXXXXXXXXXXXXXXXXXXXXXXXXXXXXXXXXXXXXXXXXXXXXXXXXXXXXXXXXXXXXXXXXXXXXXXXXXXXXXXXX"
   ]
  },
  {
   "cell_type": "markdown",
   "metadata": {
    "_uuid": "de2c55576b9c3996fb19b934419d35973cd66cd3"
   },
   "source": [
    "# So most of the major assumptions of Linear Regression are successfully through. Great! Since this was one of the simplest data sets it demonstrated the steps well. These steps can be applied on other problems to be able to make better decisions about which model to use. I hope this acts as a decent template of sort to be applied to data."
   ]
  },
  {
   "cell_type": "markdown",
   "metadata": {
    "_uuid": "d1d85f20819c56bb2471ef3b84df6d30191f2559"
   },
   "source": [
    "# <a id=\"other\"> 7. Some other model evaluations for fun</a>"
   ]
  },
  {
   "cell_type": "code",
   "execution_count": null,
   "metadata": {
    "_uuid": "c22c26edfe2c6f2e42d7089d8167a775831ea973"
   },
   "outputs": [],
   "source": [
    "from sklearn.tree import DecisionTreeRegressor\n",
    "\n",
    "dec_tree = DecisionTreeRegressor(random_state=0)\n",
    "dec_tree.fit(X,y)\n",
    "dec_tree_y_pred = dec_tree.predict(X)\n",
    "print(\"Accuracy: {}\".format(dec_tree.score(X,y)))\n",
    "print(\"R squared: {}\".format(r2_score(y_true=y,y_pred=dec_tree_y_pred)))"
   ]
  },
  {
   "cell_type": "code",
   "execution_count": null,
   "metadata": {
    "_uuid": "8dbde1825918f0e63e9891a05960294f24ad5ce8"
   },
   "outputs": [],
   "source": [
    "from sklearn.ensemble import RandomForestRegressor\n",
    "\n",
    "rf_tree = RandomForestRegressor(random_state=0)\n",
    "rf_tree.fit(X,y)\n",
    "rf_tree_y_pred = rf_tree.predict(X)\n",
    "print(\"Accuracy: {}\".format(rf_tree.score(X,y)))\n",
    "print(\"R squared: {}\".format(r2_score(y_true=y,y_pred=rf_tree_y_pred)))"
   ]
  },
  {
   "cell_type": "code",
   "execution_count": null,
   "metadata": {
    "_uuid": "3de14ce79ace5f6eba25a3afbd7e2fbfc760b2dc"
   },
   "outputs": [],
   "source": [
    "from sklearn.svm import SVR\n",
    "\n",
    "svr = SVR()\n",
    "svr.fit(X,y)\n",
    "svr_y_pred = svr.predict(X)\n",
    "print(\"Accuracy: {}\".format(svr.score(X,y)))\n",
    "print(\"R squared: {}\".format(r2_score(y_true=y,y_pred=svr_y_pred)))"
   ]
  },
  {
   "cell_type": "markdown",
   "metadata": {
    "_uuid": "12a30aa1b4dd069c626a449d45b6e5e64cdf8287"
   },
   "source": [
    "### Note that the scores are high because I have used the same data for training and testing. This also shows how significant data splitting, train_test_split() etc. are. This is only for model exploration purposes."
   ]
  },
  {
   "cell_type": "markdown",
   "metadata": {
    "_uuid": "c1bdbc3f97225731d897a57fc2549e3df2fa30c6"
   },
   "source": [
    "Reference:\n",
    "* http://r-statistics.co/Assumptions-of-Linear-Regression.html\n",
    "* https://www.statisticssolutions.com/assumptions-of-linear-regression/"
   ]
  },
  {
   "cell_type": "code",
   "execution_count": null,
   "metadata": {
    "_uuid": "21eecbca1969640179f232efbf834b5fd2512215"
   },
   "outputs": [],
   "source": []
  }
 ],
 "metadata": {
  "kernelspec": {
   "display_name": "Python 3",
   "language": "python",
   "name": "python3"
  },
  "language_info": {
   "codemirror_mode": {
    "name": "ipython",
    "version": 3
   },
   "file_extension": ".py",
   "mimetype": "text/x-python",
   "name": "python",
   "nbconvert_exporter": "python",
   "pygments_lexer": "ipython3",
   "version": "3.5.2"
  }
 },
 "nbformat": 4,
 "nbformat_minor": 1
}
