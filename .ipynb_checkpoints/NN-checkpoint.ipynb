{
 "cells": [
  {
   "cell_type": "code",
   "execution_count": 1,
   "metadata": {},
   "outputs": [],
   "source": [
    "import numpy as np\n",
    "import pandas as pd\n",
    "import seaborn as sns\n",
    "sns.set(context=\"notebook\", palette=\"Spectral\", style = 'darkgrid' ,font_scale = 1.5, color_codes=True)\n",
    "import warnings\n",
    "warnings.filterwarnings('ignore')\n",
    "import os\n",
    "import matplotlib.pyplot as plt\n",
    "\n",
    "n_rows_to_load = 5000000\n",
    "\n",
    "pd.set_option('display.max_columns', 50)"
   ]
  },
  {
   "cell_type": "markdown",
   "metadata": {},
   "source": [
    "## Preprocessing data"
   ]
  },
  {
   "cell_type": "code",
   "execution_count": 2,
   "metadata": {
    "scrolled": true
   },
   "outputs": [],
   "source": [
    "# Load all csv files into the memory\n",
    "hist_transactions = pd.read_csv(\"/home/nikolaevra/datasets/elo/historical_transactions.csv\", index_col='card_id', nrows=n_rows_to_load)\n",
    "merchants = pd.read_csv(\"/home/nikolaevra/datasets/elo/merchants.csv\", index_col='merchant_id', nrows=n_rows_to_load)\n",
    "train_df = pd.read_csv(\"/home/nikolaevra/datasets/elo/train.csv\", index_col='card_id', nrows=n_rows_to_load)\n",
    "\n",
    "# First inner join historical transactions \n",
    "# with train dataframe using the card_id column as index.\n",
    "hist_train = hist_transactions.join(\n",
    "    train_df,\n",
    "    how='inner',\n",
    "    rsuffix='_train',\n",
    "    lsuffix='_transac'\n",
    ").drop_duplicates().reset_index(drop=True)\n",
    "\n",
    "# Reset the index of the joined table from card_id to \n",
    "# merchant_id so that we can perform the next join.\n",
    "hist_train = hist_train.set_index('merchant_id')\n",
    "\n",
    "# Second inner join the first joined table with the merchants \n",
    "# table using the merchant_id\n",
    "hist_train_merch = hist_train.join(\n",
    "    merchants,\n",
    "    how='inner',\n",
    "    rsuffix='_merchant'\n",
    ").drop_duplicates().reset_index(drop=True)"
   ]
  },
  {
   "cell_type": "code",
   "execution_count": 3,
   "metadata": {},
   "outputs": [],
   "source": [
    "# Parse the datetime string into datetime object.\n",
    "hist_train_merch['purchase_date'] = pd.to_datetime(hist_train_merch['purchase_date'])\n",
    "\n",
    "# Parse datetime object and create dummy columns to store day, month and year count.\n",
    "hist_train_merch['purchase_date_day'] = pd.to_datetime(\n",
    "    hist_train_merch['purchase_date']\n",
    ").dt.day\n",
    "hist_train_merch['purchase_date_month'] = pd.to_datetime(\n",
    "    hist_train_merch['purchase_date']\n",
    ").dt.month\n",
    "hist_train_merch['purchase_date_year'] = pd.to_datetime(\n",
    "    hist_train_merch['purchase_date']\n",
    ").dt.year"
   ]
  },
  {
   "cell_type": "code",
   "execution_count": 4,
   "metadata": {},
   "outputs": [],
   "source": [
    "# Identify all of the categorical columns so that we can \n",
    "# one hot encode them and later remove.\n",
    "categorical_cols = [\n",
    "    'category_1', 'category_2',\n",
    "    'category_3', 'category_4', \n",
    "    'authorized_flag', 'city_id',\n",
    "    'state_id', 'subsector_id', 'first_active_month',\n",
    "    'most_recent_sales_range', 'most_recent_purchases_range',\n",
    "    'purchase_date_day', 'purchase_date_month',\n",
    "    'purchase_date_year', 'feature_1', 'feature_2', 'feature_3',\n",
    "    'active_months_lag3', 'active_months_lag6', 'active_months_lag12',\n",
    "]"
   ]
  },
  {
   "cell_type": "code",
   "execution_count": 5,
   "metadata": {},
   "outputs": [],
   "source": [
    "repeated_cols = [\n",
    "    'city_id_merchant', 'state_id_merchant', \n",
    "    'category_2_merchant', 'category_1_merchant',\n",
    "    'merchant_category_id_merchant', 'subsector_id_merchant', 'merchant_group_id',\n",
    "    'merchant_category_id'\n",
    "]"
   ]
  },
  {
   "cell_type": "code",
   "execution_count": 9,
   "metadata": {
    "scrolled": true
   },
   "outputs": [
    {
     "name": "stdout",
     "output_type": "stream",
     "text": [
      "added feature: category_2 -> (647455, 7)\n",
      "added feature: category_3 -> (647455, 10)\n",
      "added feature: category_4 -> (647455, 12)\n",
      "added feature: authorized_flag -> (647455, 14)\n",
      "added feature: city_id -> (647455, 320)\n",
      "added feature: state_id -> (647455, 345)\n",
      "added feature: subsector_id -> (647455, 386)\n",
      "added feature: first_active_month -> (647455, 445)\n",
      "added feature: most_recent_sales_range -> (647455, 450)\n",
      "added feature: most_recent_purchases_range -> (647455, 455)\n",
      "added feature: purchase_date_day -> (647455, 486)\n",
      "added feature: purchase_date_month -> (647455, 498)\n",
      "added feature: purchase_date_year -> (647455, 500)\n",
      "added feature: feature_1 -> (647455, 505)\n",
      "added feature: feature_2 -> (647455, 508)\n",
      "added feature: feature_3 -> (647455, 510)\n",
      "added feature: active_months_lag3 -> (647455, 513)\n",
      "added feature: active_months_lag6 -> (647455, 519)\n",
      "added feature: active_months_lag12 -> (647455, 531)\n",
      "Non-categorical data:\n"
     ]
    },
    {
     "data": {
      "text/html": [
       "<div>\n",
       "<style scoped>\n",
       "    .dataframe tbody tr th:only-of-type {\n",
       "        vertical-align: middle;\n",
       "    }\n",
       "\n",
       "    .dataframe tbody tr th {\n",
       "        vertical-align: top;\n",
       "    }\n",
       "\n",
       "    .dataframe thead th {\n",
       "        text-align: right;\n",
       "    }\n",
       "</style>\n",
       "<table border=\"1\" class=\"dataframe\">\n",
       "  <thead>\n",
       "    <tr style=\"text-align: right;\">\n",
       "      <th></th>\n",
       "      <th>installments</th>\n",
       "      <th>month_lag</th>\n",
       "      <th>purchase_amount</th>\n",
       "      <th>numerical_1</th>\n",
       "      <th>numerical_2</th>\n",
       "      <th>avg_sales_lag3</th>\n",
       "      <th>avg_purchases_lag3</th>\n",
       "      <th>avg_sales_lag6</th>\n",
       "      <th>avg_purchases_lag6</th>\n",
       "      <th>avg_sales_lag12</th>\n",
       "      <th>avg_purchases_lag12</th>\n",
       "    </tr>\n",
       "  </thead>\n",
       "  <tbody>\n",
       "    <tr>\n",
       "      <th>0</th>\n",
       "      <td>5</td>\n",
       "      <td>-6</td>\n",
       "      <td>-0.596793</td>\n",
       "      <td>-0.047556</td>\n",
       "      <td>-0.047556</td>\n",
       "      <td>0.88</td>\n",
       "      <td>1.059952</td>\n",
       "      <td>0.86</td>\n",
       "      <td>1.229017</td>\n",
       "      <td>0.96</td>\n",
       "      <td>1.276379</td>\n",
       "    </tr>\n",
       "    <tr>\n",
       "      <th>1</th>\n",
       "      <td>1</td>\n",
       "      <td>-12</td>\n",
       "      <td>-0.356218</td>\n",
       "      <td>0.309381</td>\n",
       "      <td>0.309381</td>\n",
       "      <td>0.99</td>\n",
       "      <td>1.053998</td>\n",
       "      <td>1.01</td>\n",
       "      <td>1.079682</td>\n",
       "      <td>0.99</td>\n",
       "      <td>1.058792</td>\n",
       "    </tr>\n",
       "    <tr>\n",
       "      <th>2</th>\n",
       "      <td>1</td>\n",
       "      <td>-11</td>\n",
       "      <td>-0.614674</td>\n",
       "      <td>0.309381</td>\n",
       "      <td>0.309381</td>\n",
       "      <td>0.99</td>\n",
       "      <td>1.053998</td>\n",
       "      <td>1.01</td>\n",
       "      <td>1.079682</td>\n",
       "      <td>0.99</td>\n",
       "      <td>1.058792</td>\n",
       "    </tr>\n",
       "    <tr>\n",
       "      <th>3</th>\n",
       "      <td>0</td>\n",
       "      <td>-7</td>\n",
       "      <td>-0.678612</td>\n",
       "      <td>-0.027726</td>\n",
       "      <td>-0.027726</td>\n",
       "      <td>1.07</td>\n",
       "      <td>1.018402</td>\n",
       "      <td>1.03</td>\n",
       "      <td>1.009201</td>\n",
       "      <td>1.02</td>\n",
       "      <td>1.039826</td>\n",
       "    </tr>\n",
       "    <tr>\n",
       "      <th>4</th>\n",
       "      <td>0</td>\n",
       "      <td>-7</td>\n",
       "      <td>-0.631985</td>\n",
       "      <td>-0.027726</td>\n",
       "      <td>-0.027726</td>\n",
       "      <td>1.07</td>\n",
       "      <td>1.018402</td>\n",
       "      <td>1.03</td>\n",
       "      <td>1.009201</td>\n",
       "      <td>1.02</td>\n",
       "      <td>1.039826</td>\n",
       "    </tr>\n",
       "  </tbody>\n",
       "</table>\n",
       "</div>"
      ],
      "text/plain": [
       "   installments  month_lag  purchase_amount  numerical_1  numerical_2  \\\n",
       "0             5         -6        -0.596793    -0.047556    -0.047556   \n",
       "1             1        -12        -0.356218     0.309381     0.309381   \n",
       "2             1        -11        -0.614674     0.309381     0.309381   \n",
       "3             0         -7        -0.678612    -0.027726    -0.027726   \n",
       "4             0         -7        -0.631985    -0.027726    -0.027726   \n",
       "\n",
       "   avg_sales_lag3  avg_purchases_lag3  avg_sales_lag6  avg_purchases_lag6  \\\n",
       "0            0.88            1.059952            0.86            1.229017   \n",
       "1            0.99            1.053998            1.01            1.079682   \n",
       "2            0.99            1.053998            1.01            1.079682   \n",
       "3            1.07            1.018402            1.03            1.009201   \n",
       "4            1.07            1.018402            1.03            1.009201   \n",
       "\n",
       "   avg_sales_lag12  avg_purchases_lag12  \n",
       "0             0.96             1.276379  \n",
       "1             0.99             1.058792  \n",
       "2             0.99             1.058792  \n",
       "3             1.02             1.039826  \n",
       "4             1.02             1.039826  "
      ]
     },
     "execution_count": 9,
     "metadata": {},
     "output_type": "execute_result"
    }
   ],
   "source": [
    "oh_df = hist_train_merch\n",
    "raw_cat = pd.get_dummies(oh_df[categorical_cols[0]], prefix=categorical_cols[0]).values\n",
    "\n",
    "# For every categorical column, cone hot encode it \n",
    "# and add to the main dataframe. \n",
    "for cat_col in categorical_cols[1:]:\n",
    "    dummies = pd.get_dummies(oh_df[cat_col], prefix=cat_col).values\n",
    "    raw_cat = np.concatenate((raw_cat, dummies), axis = 1)\n",
    "    print('added feature:', cat_col, '->', raw_cat.shape)\n",
    "    \n",
    "# Drop all of the categorical columns because we have\n",
    "# replaced them with one hot encoded ones.     \n",
    "clean_oh_df = oh_df.drop(\n",
    "    columns=categorical_cols + \n",
    "    ['purchase_date'] + repeated_cols\n",
    ")\n",
    "\n",
    "# Convert target column into its own numpy array.\n",
    "raw_Y = clean_oh_df['target'].values\n",
    "\n",
    "# Remove target column, so that we can use the rest \n",
    "# as input columns.\n",
    "clean_oh_df = clean_oh_df.drop(columns=['target'])\n",
    "\n",
    "print('Non-categorical data:')\n",
    "clean_oh_df.head()"
   ]
  },
  {
   "cell_type": "code",
   "execution_count": 74,
   "metadata": {},
   "outputs": [
    {
     "name": "stdout",
     "output_type": "stream",
     "text": [
      "Final Shape: (647455, 531)\n"
     ]
    }
   ],
   "source": [
    "# Add all non-categorical columns to the data matrix.\n",
    "raw_X = raw_cat\n",
    "# raw_X = np.concatenate((raw_cat, clean_oh_df.values), axis=1)\n",
    "print(\"Final Shape:\", raw_X.shape)"
   ]
  },
  {
   "cell_type": "code",
   "execution_count": 75,
   "metadata": {
    "scrolled": true
   },
   "outputs": [
    {
     "data": {
      "text/plain": [
       "array([1, 0, 1, 0, 0, 0, 0, 0, 0, 1, 0, 1, 0, 1, 0, 0, 0, 0, 0, 0, 0, 0,\n",
       "       0, 0, 0, 0, 0, 0, 0, 0, 0, 0, 0, 0, 0, 0, 0, 0, 0, 0, 0, 0, 0, 0,\n",
       "       0, 0, 0, 0, 0, 0, 0, 0, 0, 0, 0, 0, 0, 0, 0, 0, 0, 0, 0, 0, 0, 0,\n",
       "       0, 0, 0, 0, 0, 0, 1, 0, 0, 0, 0, 0, 0, 0, 0, 0, 0, 0, 0, 0, 0, 0,\n",
       "       0, 0, 0, 0, 0, 0, 0, 0, 0, 0, 0, 0, 0, 0, 0, 0, 0, 0, 0, 0, 0, 0,\n",
       "       0, 0, 0, 0, 0, 0, 0, 0, 0, 0, 0, 0, 0, 0, 0, 0, 0, 0, 0, 0, 0, 0,\n",
       "       0, 0, 0, 0, 0, 0, 0, 0, 0, 0, 0, 0, 0, 0, 0, 0, 0, 0, 0, 0, 0, 0,\n",
       "       0, 0, 0, 0, 0, 0, 0, 0, 0, 0, 0, 0, 0, 0, 0, 0, 0, 0, 0, 0, 0, 0,\n",
       "       0, 0, 0, 0, 0, 0, 0, 0, 0, 0, 0, 0, 0, 0, 0, 0, 0, 0, 0, 0, 0, 0,\n",
       "       0, 0, 0, 0, 0, 0, 0, 0, 0, 0, 0, 0, 0, 0, 0, 0, 0, 0, 0, 0, 0, 0,\n",
       "       0, 0, 0, 0, 0, 0, 0, 0, 0, 0, 0, 0, 0, 0, 0, 0, 0, 0, 0, 0, 0, 0,\n",
       "       0, 0, 0, 0, 0, 0, 0, 0, 0, 0, 0, 0, 0, 0, 0, 0, 0, 0, 0, 0, 0, 0,\n",
       "       0, 0, 0, 0, 0, 0, 0, 0, 0, 0, 0, 0, 0, 0, 0, 0, 0, 0, 0, 0, 0, 0,\n",
       "       0, 0, 0, 0, 0, 0, 0, 0, 0, 0, 0, 0, 0, 0, 0, 0, 0, 0, 0, 0, 0, 0,\n",
       "       0, 0, 0, 0, 0, 0, 0, 0, 0, 0, 0, 0, 0, 0, 0, 0, 0, 0, 0, 0, 0, 1,\n",
       "       0, 0, 0, 0, 0, 0, 0, 0, 0, 0, 0, 0, 0, 0, 0, 0, 0, 0, 0, 0, 0, 0,\n",
       "       0, 0, 0, 0, 0, 0, 0, 0, 0, 0, 0, 0, 0, 0, 0, 0, 0, 0, 0, 1, 0, 0,\n",
       "       0, 0, 0, 0, 0, 0, 0, 0, 0, 0, 0, 0, 0, 0, 0, 0, 0, 0, 0, 0, 0, 0,\n",
       "       0, 0, 0, 0, 0, 0, 0, 0, 0, 0, 0, 0, 0, 0, 0, 0, 0, 0, 0, 0, 0, 0,\n",
       "       0, 0, 0, 0, 0, 0, 0, 0, 0, 0, 0, 0, 0, 0, 0, 0, 0, 0, 0, 0, 0, 1,\n",
       "       0, 0, 0, 0, 0, 0, 0, 0, 1, 0, 0, 0, 0, 1, 0, 0, 0, 0, 0, 0, 0, 0,\n",
       "       0, 0, 0, 0, 0, 0, 0, 0, 0, 0, 0, 0, 0, 0, 0, 0, 0, 1, 0, 0, 0, 0,\n",
       "       0, 0, 0, 0, 0, 0, 0, 0, 0, 1, 0, 0, 0, 0, 1, 0, 0, 0, 0, 0, 1, 1,\n",
       "       0, 0, 0, 1, 0, 0, 1, 0, 0, 0, 0, 0, 1, 0, 0, 0, 0, 0, 0, 0, 0, 0,\n",
       "       0, 0, 1], dtype=uint8)"
      ]
     },
     "execution_count": 75,
     "metadata": {},
     "output_type": "execute_result"
    }
   ],
   "source": [
    "raw_X[0]"
   ]
  },
  {
   "cell_type": "code",
   "execution_count": 76,
   "metadata": {},
   "outputs": [
    {
     "data": {
      "text/plain": [
       "-0.03313149"
      ]
     },
     "execution_count": 76,
     "metadata": {},
     "output_type": "execute_result"
    }
   ],
   "source": [
    "raw_Y[0]"
   ]
  },
  {
   "cell_type": "code",
   "execution_count": 77,
   "metadata": {},
   "outputs": [
    {
     "name": "stdout",
     "output_type": "stream",
     "text": [
      "X: (647455, 531) Y: (647455,)\n"
     ]
    }
   ],
   "source": [
    "print(\"X:\", raw_X.shape, \"Y:\", raw_Y.shape)"
   ]
  },
  {
   "cell_type": "code",
   "execution_count": 78,
   "metadata": {},
   "outputs": [
    {
     "name": "stdout",
     "output_type": "stream",
     "text": [
      "Splitting at: 582709\n",
      "train_X (582709, 531)\n",
      "train_Y (582709,)\n",
      "test_X (64746, 531)\n",
      "test_Y (64746,)\n"
     ]
    }
   ],
   "source": [
    "split_ratio = 0.9\n",
    "split_point = int(split_ratio * raw_X.shape[0])\n",
    "\n",
    "# Split into train and test sets.\n",
    "print('Splitting at:', split_point)\n",
    "train_X = raw_X[:split_point, :]\n",
    "train_Y = raw_Y[:split_point]\n",
    "\n",
    "test_X = raw_X[split_point:, :]\n",
    "test_Y = raw_Y[split_point:]\n",
    "\n",
    "print(\"train_X\", train_X.shape)\n",
    "print(\"train_Y\", train_Y.shape)\n",
    "print(\"test_X\", test_X.shape)\n",
    "print(\"test_Y\", test_Y.shape)"
   ]
  },
  {
   "cell_type": "markdown",
   "metadata": {},
   "source": [
    "## Building the network"
   ]
  },
  {
   "cell_type": "code",
   "execution_count": 79,
   "metadata": {},
   "outputs": [],
   "source": [
    "from keras import backend as K\n",
    "from keras import models\n",
    "from keras import layers\n",
    "\n",
    "import livelossplot\n",
    "plot_losses = livelossplot.PlotLossesKeras()"
   ]
  },
  {
   "cell_type": "code",
   "execution_count": 80,
   "metadata": {},
   "outputs": [
    {
     "name": "stdout",
     "output_type": "stream",
     "text": [
      "_________________________________________________________________\n",
      "Layer (type)                 Output Shape              Param #   \n",
      "=================================================================\n",
      "dense_32 (Dense)             (None, 256)               136192    \n",
      "_________________________________________________________________\n",
      "dense_33 (Dense)             (None, 1)                 257       \n",
      "=================================================================\n",
      "Total params: 136,449\n",
      "Trainable params: 136,449\n",
      "Non-trainable params: 0\n",
      "_________________________________________________________________\n"
     ]
    }
   ],
   "source": [
    "# Build neural network\n",
    "model = models.Sequential()\n",
    "model.add(layers.Dense(256, activation='relu', input_shape=(train_X.shape[1], )))\n",
    "# model.add(layers.Dropout(0.25))\n",
    "# model.add(layers.Dropout(0.25))\n",
    "model.add(layers.Dense(1, activation='linear'))\n",
    "\n",
    "model.summary()"
   ]
  },
  {
   "cell_type": "code",
   "execution_count": 81,
   "metadata": {},
   "outputs": [],
   "source": [
    "def root_mean_squared_error(y_true, y_pred):\n",
    "        return K.sqrt(K.mean(K.square(y_pred - y_true), axis=-1))"
   ]
  },
  {
   "cell_type": "code",
   "execution_count": 82,
   "metadata": {},
   "outputs": [
    {
     "data": {
      "image/png": "[encoded data removed]",
      "text/plain": [
       "<Figure size 864x576 with 2 Axes>"
      ]
     },
     "metadata": {},
     "output_type": "display_data"
    },
    {
     "name": "stdout",
     "output_type": "stream",
     "text": [
      "Mean squared error (cost function):\n",
      "training   (min:    2.197, max:    7.148, cur:    2.197)\n",
      "validation (min:    4.222, max:    7.452, cur:    4.495)\n",
      "\n",
      "Accuracy:\n",
      "training   (min:    0.001, max:    0.001, cur:    0.001)\n",
      "validation (min:    0.001, max:    0.002, cur:    0.001)\n",
      "Test loss: 4.495495653887466\n",
      "Test accuracy: 0.0014672721094739444\n"
     ]
    }
   ],
   "source": [
    "# Compile model\n",
    "model.compile(optimizer='rmsprop',\n",
    "              loss='mean_squared_error',\n",
    "              metrics =[\"accuracy\"])\n",
    "\n",
    "# Train model\n",
    "model.fit(train_X, train_Y,\n",
    "          batch_size=256,\n",
    "          epochs=50,\n",
    "          callbacks=[plot_losses],\n",
    "          verbose=1,\n",
    "          validation_data=(test_X, test_Y))\n",
    "\n",
    "score = model.evaluate(test_X, test_Y, verbose=0)\n",
    "print('Test loss:', score[0])\n",
    "print('Test accuracy:', score[1])"
   ]
  },
  {
   "cell_type": "code",
   "execution_count": null,
   "metadata": {},
   "outputs": [],
   "source": [
    "SVG(model_to_dot(model).create(prog='dot', format='svg'))"
   ]
  },
  {
   "cell_type": "code",
   "execution_count": null,
   "metadata": {},
   "outputs": [],
   "source": []
  }
 ],
 "metadata": {
  "kernelspec": {
   "display_name": "Python 3",
   "language": "python",
   "name": "python3"
  },
  "language_info": {
   "codemirror_mode": {
    "name": "ipython",
    "version": 3
   },
   "file_extension": ".py",
   "mimetype": "text/x-python",
   "name": "python",
   "nbconvert_exporter": "python",
   "pygments_lexer": "ipython3",
   "version": "3.5.2"
  }
 },
 "nbformat": 4,
 "nbformat_minor": 2
}
