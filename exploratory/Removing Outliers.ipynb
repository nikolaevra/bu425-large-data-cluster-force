{
 "cells": [
  {
   "cell_type": "code",
   "execution_count": 131,
   "metadata": {},
   "outputs": [],
   "source": [
    "import numpy as np\n",
    "import pandas as pd\n",
    "import seaborn as sns\n",
    "sns.set(context=\"notebook\", palette=\"Spectral\", style = 'darkgrid' ,font_scale = 1.5, color_codes=True)\n",
    "import warnings\n",
    "warnings.filterwarnings('ignore')\n",
    "import os\n",
    "import matplotlib.pyplot as plt\n",
    "from scipy import stats\n",
    "n_rows_to_load = 100000"
   ]
  },
  {
   "cell_type": "code",
   "execution_count": 132,
   "metadata": {},
   "outputs": [],
   "source": [
    "hist_transactions = pd.read_csv(\"/mnt/c/Users/Anton/Desktop/BU425/Project/bu425-large-data-cluster-force/data/historical_transactions.csv\", index_col='card_id', nrows=n_rows_to_load)\n",
    "merchants = pd.read_csv(\"/mnt/c/Users/Anton/Desktop/BU425/Project/bu425-large-data-cluster-force/data/merchants.csv\", index_col='merchant_id', nrows=n_rows_to_load)\n",
    "train_df = pd.read_csv(\"/mnt/c/Users/Anton/Desktop/BU425/Project/bu425-large-data-cluster-force/data/train.csv\", index_col='card_id', nrows=n_rows_to_load)\n",
    "\n",
    "# For filtering out outliers to 3 standard deviations (-3, 3), corresponding to 99% interval\n",
    "z_threshold = 3\n",
    "def z_score(val, mean, std):\n",
    "    if val == float('inf'): return float('inf')\n",
    "    return (val - mean)/std"
   ]
  },
  {
   "cell_type": "code",
   "execution_count": 133,
   "metadata": {},
   "outputs": [],
   "source": [
    "# Creating z-scores columns for hist transactions columns (month_lag, purchase_amount, installments)\n",
    "\n",
    "mean = hist_transactions.month_lag.mean()\n",
    "std = hist_transactions.month_lag.std()\n",
    "hist_transactions['month_lag_z'] = hist_transactions.apply(lambda row: (row.month_lag - mean)/std, axis=1)\n",
    "\n",
    "mean = hist_transactions.purchase_amount.mean()\n",
    "std = hist_transactions.purchase_amount.std()\n",
    "hist_transactions['purchase_amount_z'] = hist_transactions.apply(lambda row: (row.purchase_amount - mean)/std, axis=1)\n",
    "\n",
    "mean = hist_transactions.installments.mean()\n",
    "std = hist_transactions.installments.std()\n",
    "hist_transactions['installments_z'] = hist_transactions.apply(lambda row: (row.installments - mean)/std, axis=1)"
   ]
  },
  {
   "cell_type": "code",
   "execution_count": 134,
   "metadata": {},
   "outputs": [],
   "source": [
    "# Finding outliers with z-scores higher than threshold\n",
    "\n",
    "transactions_outlier_IDs = hist_transactions.loc[(hist_transactions['month_lag_z'] > threshold) | (hist_transactions['month_lag_z'] < threshold*-1) |\n",
    "                     (hist_transactions['purchase_amount_z'] > threshold) | (hist_transactions['purchase_amount_z'] < threshold*-1) |\n",
    "                     (hist_transactions['installments_z'] > threshold) | (hist_transactions['installments_z'] < threshold*-1)].reset_index()[['card_id']]"
   ]
  },
  {
   "cell_type": "code",
   "execution_count": 135,
   "metadata": {},
   "outputs": [],
   "source": [
    "# Creating z-scores columns for target column\n",
    "mean = train_df.target.mean()\n",
    "std = train_df.target.std()\n",
    "train_df['target_z'] = train_df.apply(lambda row: (row.target - mean)/std, axis=1)\n",
    "# Finding outliers with z-scores higher than threshold\n",
    "training_target_outlier_IDs = train_df.loc[(train_df['target_z'] > threshold) | (train_df['target_z'] < threshold*-1)].reset_index()[['card_id']]\n",
    "\n",
    "# outliers = detect_outlier(train_df['target'])\n",
    "# print(len(outliers), outliers[0:8])\n",
    "#train_df.loc[(train_df['target_z'] > threshold) | (train_df['target_z'] < threshold*-1)].groupby('target').count()\n",
    "# train_df.groupby('target').count().sort_index(ascending=True)"
   ]
  },
  {
   "cell_type": "code",
   "execution_count": 136,
   "metadata": {},
   "outputs": [],
   "source": [
    "# Creating z-scores columns for merchants columns\n",
    "columns = ['numerical_1', 'numerical_2', 'avg_sales_lag3', 'avg_purchases_lag3', 'active_months_lag3', 'avg_sales_lag6', 'avg_purchases_lag6', 'active_months_lag6', 'avg_sales_lag12', 'avg_purchases_lag12', 'active_months_lag12']\n",
    "for col in columns:\n",
    "    mean = np.ma.masked_invalid(merchants[col]).mean()\n",
    "    std = np.ma.masked_invalid(merchants[col]).std()\n",
    "    merchants[col+'_z'] = merchants.apply(lambda row: z_score(row[col], mean, std), axis=1)\n",
    "\n",
    "#     For testing\n",
    "#     outliers = detect_outlier(merchants['card_id', col])\n",
    "#     print(col)\n",
    "#     print(len(outliers), outliers[0:8])\n",
    "#     print()"
   ]
  },
  {
   "cell_type": "code",
   "execution_count": 138,
   "metadata": {},
   "outputs": [],
   "source": [
    "# Saving outliers with z-scores higher than threshold\n",
    "merchants_outlier_IDs = merchants.loc[(merchants['numerical_1_z'] > threshold) | (merchants['numerical_1_z'] < threshold*-1) | \n",
    "              (merchants['numerical_2_z'] > threshold) | (merchants['numerical_2_z'] < threshold*-1) | \n",
    "              (merchants['avg_sales_lag3_z'] > threshold) | (merchants['avg_sales_lag3_z'] < threshold*-1) | \n",
    "              (merchants['avg_purchases_lag3_z'] > threshold) | (merchants['avg_purchases_lag3_z'] < threshold*-1) | \n",
    "              (merchants['active_months_lag3_z'] > threshold) | (merchants['active_months_lag3_z'] < threshold*-1) | \n",
    "              (merchants['avg_sales_lag6_z'] > threshold) | (merchants['avg_sales_lag6_z'] < threshold*-1) | \n",
    "              (merchants['avg_purchases_lag6_z'] > threshold) | (merchants['avg_purchases_lag6_z'] < threshold*-1) | \n",
    "              (merchants['active_months_lag6_z'] > threshold) | (merchants['active_months_lag6_z'] < threshold*-1) | \n",
    "              (merchants['avg_sales_lag12_z'] > threshold) | (merchants['avg_sales_lag12_z'] < threshold*-1) | \n",
    "              (merchants['avg_purchases_lag12_z'] > threshold) | (merchants['avg_purchases_lag12_z'] < threshold*-1) | \n",
    "              (merchants['active_months_lag12_z'] > threshold) | (merchants['active_months_lag12_z'] < threshold*-1)               \n",
    "             ].reset_index()[['merchant_id']]"
   ]
  },
  {
   "cell_type": "code",
   "execution_count": 141,
   "metadata": {},
   "outputs": [],
   "source": [
    "# Saving outliers to files\n",
    "transactions_outlier_IDs.to_csv('transactions_outlier_IDs.csv')\n",
    "training_target_outlier_IDs.to_csv('training_target_outlier_IDs.csv')\n",
    "merchants_outlier_IDs.to_csv('merchants_outlier_IDs.csv')"
   ]
  },
  {
   "cell_type": "code",
   "execution_count": null,
   "metadata": {},
   "outputs": [],
   "source": []
  }
 ],
 "metadata": {
  "kernelspec": {
   "display_name": "Python 3",
   "language": "python",
   "name": "python3"
  },
  "language_info": {
   "codemirror_mode": {
    "name": "ipython",
    "version": 3
   },
   "file_extension": ".py",
   "mimetype": "text/x-python",
   "name": "python",
   "nbconvert_exporter": "python",
   "pygments_lexer": "ipython3",
   "version": "3.6.7"
  }
 },
 "nbformat": 4,
 "nbformat_minor": 2
}
