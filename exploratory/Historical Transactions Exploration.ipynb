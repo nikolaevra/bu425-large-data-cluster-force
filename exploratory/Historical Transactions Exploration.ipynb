{
 "cells": [
  {
   "cell_type": "code",
   "execution_count": 11,
   "metadata": {},
   "outputs": [],
   "source": [
    "import pandas as pd\n",
    "import matplotlib.pyplot as plt"
   ]
  },
  {
   "cell_type": "code",
   "execution_count": 2,
   "metadata": {},
   "outputs": [
    {
     "name": "stdout",
     "output_type": "stream",
     "text": [
      "total 4002600\r\n",
      "drwxrwxr-x 2 nikolaevra nikolaevra       4096 Apr  3 20:07 .\r\n",
      "drwxrwxr-x 5 nikolaevra nikolaevra       4096 Apr  1 21:39 ..\r\n",
      "-rw------- 1 nikolaevra nikolaevra      17600 Nov 23 21:08 Data_Dictionary.xlsx\r\n",
      "-rw-rw-r-- 1 nikolaevra nikolaevra   13851581 Apr  1 17:51 df_0.csv\r\n",
      "-rw-rw-r-- 1 nikolaevra nikolaevra   16510703 Apr  1 17:51 df_1.csv\r\n",
      "-rw-rw-r-- 1 nikolaevra nikolaevra   30358991 Mar 31 01:21 df1.csv\r\n",
      "-rw-rw-r-- 1 nikolaevra nikolaevra   19969945 Apr  1 17:51 df_2.csv\r\n",
      "-rw-rw-r-- 1 nikolaevra nikolaevra   45598864 Mar 31 10:55 df2.csv\r\n",
      "-rw-rw-r-- 1 nikolaevra nikolaevra   25629671 Apr  1 17:51 df_3.csv\r\n",
      "-rw-rw-r-- 1 nikolaevra nikolaevra   97514331 Mar 31 11:42 df3.csv\r\n",
      "-rw-rw-r-- 1 nikolaevra nikolaevra   36009866 Apr  1 17:51 df_4.csv\r\n",
      "-rw-rw-r-- 1 nikolaevra nikolaevra   61507371 Apr  1 17:51 df_5.csv\r\n",
      "-rw-rw-r-- 1 nikolaevra nikolaevra   13851581 Apr  2 01:37 dfn_0.csv\r\n",
      "-rw-rw-r-- 1 nikolaevra nikolaevra   16510703 Apr  2 01:37 dfn_1.csv\r\n",
      "-rw-rw-r-- 1 nikolaevra nikolaevra   19969945 Apr  2 01:37 dfn_2.csv\r\n",
      "-rw-rw-r-- 1 nikolaevra nikolaevra   25629671 Apr  2 01:37 dfn_3.csv\r\n",
      "-rw-rw-r-- 1 nikolaevra nikolaevra   36009866 Apr  2 01:37 dfn_4.csv\r\n",
      "-rw-rw-r-- 1 nikolaevra nikolaevra   88704300 Apr  2 01:37 dfn_5.csv\r\n",
      "-rw-rw-r-- 1 nikolaevra nikolaevra   94480082 Apr  2 01:37 dfn_6.csv\r\n",
      "-rw-rw-r-- 1 nikolaevra nikolaevra   13899183 Apr  2 13:28 df_new_0.csv\r\n",
      "-rw-rw-r-- 1 nikolaevra nikolaevra   16574216 Apr  2 13:28 df_new_1.csv\r\n",
      "-rw-rw-r-- 1 nikolaevra nikolaevra   20057081 Apr  2 13:28 df_new_2.csv\r\n",
      "-rw-rw-r-- 1 nikolaevra nikolaevra   25756749 Apr  2 13:28 df_new_3.csv\r\n",
      "-rw-rw-r-- 1 nikolaevra nikolaevra   36216878 Apr  2 13:28 df_new_4.csv\r\n",
      "-rw-rw-r-- 1 nikolaevra nikolaevra   90129438 Apr  2 13:28 df_new_5.csv\r\n",
      "-rw-rw-r-- 1 nikolaevra nikolaevra   97968785 Apr  2 13:28 df_new_6.csv\r\n",
      "-rw-rw-r-- 1 nikolaevra nikolaevra   55282899 Apr  3 20:07 elo.zip\r\n",
      "-rwx------ 1 nikolaevra nikolaevra 2845920484 Nov 23 21:08 historical_transactions.csv\r\n",
      "-rwx------ 1 nikolaevra nikolaevra   50040976 Nov 23 21:08 merchants.csv\r\n",
      "-rw------- 1 nikolaevra nikolaevra  190246145 Nov 23 21:08 new_merchant_transactions.csv\r\n",
      "-rw------- 1 nikolaevra nikolaevra    2225229 Nov 23 21:08 sample_submission.csv\r\n",
      "-rw------- 1 nikolaevra nikolaevra    3708740 Nov 23 21:08 test.csv\r\n",
      "-rwx------ 1 nikolaevra nikolaevra    8383651 Nov 23 21:08 train.csv\r\n"
     ]
    }
   ],
   "source": [
    "! ls -la /home/nikolaevra/datasets/elo/"
   ]
  },
  {
   "cell_type": "code",
   "execution_count": 3,
   "metadata": {},
   "outputs": [],
   "source": [
    "df = pd.read_csv(\"/home/nikolaevra/datasets/elo/historical_transactions.csv\", nrows=900000)"
   ]
  },
  {
   "cell_type": "code",
   "execution_count": 4,
   "metadata": {},
   "outputs": [
    {
     "data": {
      "text/html": [
       "<div>\n",
       "<style scoped>\n",
       "    .dataframe tbody tr th:only-of-type {\n",
       "        vertical-align: middle;\n",
       "    }\n",
       "\n",
       "    .dataframe tbody tr th {\n",
       "        vertical-align: top;\n",
       "    }\n",
       "\n",
       "    .dataframe thead th {\n",
       "        text-align: right;\n",
       "    }\n",
       "</style>\n",
       "<table border=\"1\" class=\"dataframe\">\n",
       "  <thead>\n",
       "    <tr style=\"text-align: right;\">\n",
       "      <th></th>\n",
       "      <th>authorized_flag</th>\n",
       "      <th>card_id</th>\n",
       "      <th>city_id</th>\n",
       "      <th>category_1</th>\n",
       "      <th>installments</th>\n",
       "      <th>category_3</th>\n",
       "      <th>merchant_category_id</th>\n",
       "      <th>merchant_id</th>\n",
       "      <th>month_lag</th>\n",
       "      <th>purchase_amount</th>\n",
       "      <th>purchase_date</th>\n",
       "      <th>category_2</th>\n",
       "      <th>state_id</th>\n",
       "      <th>subsector_id</th>\n",
       "    </tr>\n",
       "  </thead>\n",
       "  <tbody>\n",
       "    <tr>\n",
       "      <th>0</th>\n",
       "      <td>Y</td>\n",
       "      <td>C_ID_4e6213e9bc</td>\n",
       "      <td>88</td>\n",
       "      <td>N</td>\n",
       "      <td>0</td>\n",
       "      <td>A</td>\n",
       "      <td>80</td>\n",
       "      <td>M_ID_e020e9b302</td>\n",
       "      <td>-8</td>\n",
       "      <td>-0.703331</td>\n",
       "      <td>2017-06-25 15:33:07</td>\n",
       "      <td>1.0</td>\n",
       "      <td>16</td>\n",
       "      <td>37</td>\n",
       "    </tr>\n",
       "    <tr>\n",
       "      <th>1</th>\n",
       "      <td>Y</td>\n",
       "      <td>C_ID_4e6213e9bc</td>\n",
       "      <td>88</td>\n",
       "      <td>N</td>\n",
       "      <td>0</td>\n",
       "      <td>A</td>\n",
       "      <td>367</td>\n",
       "      <td>M_ID_86ec983688</td>\n",
       "      <td>-7</td>\n",
       "      <td>-0.733128</td>\n",
       "      <td>2017-07-15 12:10:45</td>\n",
       "      <td>1.0</td>\n",
       "      <td>16</td>\n",
       "      <td>16</td>\n",
       "    </tr>\n",
       "    <tr>\n",
       "      <th>2</th>\n",
       "      <td>Y</td>\n",
       "      <td>C_ID_4e6213e9bc</td>\n",
       "      <td>88</td>\n",
       "      <td>N</td>\n",
       "      <td>0</td>\n",
       "      <td>A</td>\n",
       "      <td>80</td>\n",
       "      <td>M_ID_979ed661fc</td>\n",
       "      <td>-6</td>\n",
       "      <td>-0.720386</td>\n",
       "      <td>2017-08-09 22:04:29</td>\n",
       "      <td>1.0</td>\n",
       "      <td>16</td>\n",
       "      <td>37</td>\n",
       "    </tr>\n",
       "    <tr>\n",
       "      <th>3</th>\n",
       "      <td>Y</td>\n",
       "      <td>C_ID_4e6213e9bc</td>\n",
       "      <td>88</td>\n",
       "      <td>N</td>\n",
       "      <td>0</td>\n",
       "      <td>A</td>\n",
       "      <td>560</td>\n",
       "      <td>M_ID_e6d5ae8ea6</td>\n",
       "      <td>-5</td>\n",
       "      <td>-0.735352</td>\n",
       "      <td>2017-09-02 10:06:26</td>\n",
       "      <td>1.0</td>\n",
       "      <td>16</td>\n",
       "      <td>34</td>\n",
       "    </tr>\n",
       "    <tr>\n",
       "      <th>4</th>\n",
       "      <td>Y</td>\n",
       "      <td>C_ID_4e6213e9bc</td>\n",
       "      <td>88</td>\n",
       "      <td>N</td>\n",
       "      <td>0</td>\n",
       "      <td>A</td>\n",
       "      <td>80</td>\n",
       "      <td>M_ID_e020e9b302</td>\n",
       "      <td>-11</td>\n",
       "      <td>-0.722865</td>\n",
       "      <td>2017-03-10 01:14:19</td>\n",
       "      <td>1.0</td>\n",
       "      <td>16</td>\n",
       "      <td>37</td>\n",
       "    </tr>\n",
       "  </tbody>\n",
       "</table>\n",
       "</div>"
      ],
      "text/plain": [
       "  authorized_flag          card_id  city_id category_1  installments  \\\n",
       "0               Y  C_ID_4e6213e9bc       88          N             0   \n",
       "1               Y  C_ID_4e6213e9bc       88          N             0   \n",
       "2               Y  C_ID_4e6213e9bc       88          N             0   \n",
       "3               Y  C_ID_4e6213e9bc       88          N             0   \n",
       "4               Y  C_ID_4e6213e9bc       88          N             0   \n",
       "\n",
       "  category_3  merchant_category_id      merchant_id  month_lag  \\\n",
       "0          A                    80  M_ID_e020e9b302         -8   \n",
       "1          A                   367  M_ID_86ec983688         -7   \n",
       "2          A                    80  M_ID_979ed661fc         -6   \n",
       "3          A                   560  M_ID_e6d5ae8ea6         -5   \n",
       "4          A                    80  M_ID_e020e9b302        -11   \n",
       "\n",
       "   purchase_amount        purchase_date  category_2  state_id  subsector_id  \n",
       "0        -0.703331  2017-06-25 15:33:07         1.0        16            37  \n",
       "1        -0.733128  2017-07-15 12:10:45         1.0        16            16  \n",
       "2        -0.720386  2017-08-09 22:04:29         1.0        16            37  \n",
       "3        -0.735352  2017-09-02 10:06:26         1.0        16            34  \n",
       "4        -0.722865  2017-03-10 01:14:19         1.0        16            37  "
      ]
     },
     "execution_count": 4,
     "metadata": {},
     "output_type": "execute_result"
    }
   ],
   "source": [
    "df.head()"
   ]
  },
  {
   "cell_type": "code",
   "execution_count": 5,
   "metadata": {},
   "outputs": [
    {
     "data": {
      "text/plain": [
       "Index(['authorized_flag', 'card_id', 'city_id', 'category_1', 'installments',\n",
       "       'category_3', 'merchant_category_id', 'merchant_id', 'month_lag',\n",
       "       'purchase_amount', 'purchase_date', 'category_2', 'state_id',\n",
       "       'subsector_id'],\n",
       "      dtype='object')"
      ]
     },
     "execution_count": 5,
     "metadata": {},
     "output_type": "execute_result"
    }
   ],
   "source": [
    "df.columns"
   ]
  },
  {
   "cell_type": "code",
   "execution_count": 17,
   "metadata": {},
   "outputs": [
    {
     "data": {
      "image/png": "[encoded data removed]",
      "text/plain": [
       "<Figure size 1440x720 with 1 Axes>"
      ]
     },
     "metadata": {},
     "output_type": "display_data"
    }
   ],
   "source": [
    "ax = df.groupby('city_id').count().sort_values(by=['merchant_id'], ascending=False)[['merchant_id']].head(50).plot(kind='bar', figsize=(20,10))# x='city_id', y='merchant_id')\n",
    "ax.set_title('City ID Histogram')\n",
    "fig = ax.get_figure()\n",
    "fig.savefig('../diagrams/city_id_histogram.png')"
   ]
  },
  {
   "cell_type": "code",
   "execution_count": null,
   "metadata": {},
   "outputs": [],
   "source": []
  }
 ],
 "metadata": {
  "kernelspec": {
   "display_name": "Python 3",
   "language": "python",
   "name": "python3"
  },
  "language_info": {
   "codemirror_mode": {
    "name": "ipython",
    "version": 3
   },
   "file_extension": ".py",
   "mimetype": "text/x-python",
   "name": "python",
   "nbconvert_exporter": "python",
   "pygments_lexer": "ipython3",
   "version": "3.5.2"
  }
 },
 "nbformat": 4,
 "nbformat_minor": 2
}
